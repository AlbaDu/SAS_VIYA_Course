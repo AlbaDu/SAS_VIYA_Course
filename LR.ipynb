{
  "nbformat": 4,
  "nbformat_minor": 0,
  "metadata": {
    "colab": {
      "name": "LR.ipynb",
      "provenance": [],
      "authorship_tag": "ABX9TyNVOSfcOAh0/M2R6M3xBQ2W",
      "include_colab_link": true
    },
    "kernelspec": {
      "name": "python3",
      "display_name": "Python 3"
    },
    "language_info": {
      "name": "python"
    }
  },
  "cells": [
    {
      "cell_type": "markdown",
      "metadata": {
        "id": "view-in-github",
        "colab_type": "text"
      },
      "source": [
        "<a href=\"https://colab.research.google.com/github/AlbaDu/SAS_VIYA_Course/blob/main/LR.ipynb\" target=\"_parent\"><img src=\"https://colab.research.google.com/assets/colab-badge.svg\" alt=\"Open In Colab\"/></a>"
      ]
    },
    {
      "cell_type": "code",
      "metadata": {
        "id": "V1ytJOtE3G9S"
      },
      "source": [
        "from __future__ import absolute_import, division, print_function"
      ],
      "execution_count": 1,
      "outputs": []
    },
    {
      "cell_type": "code",
      "metadata": {
        "id": "nzzzdFJS5vD2"
      },
      "source": [
        "import tensorflow as tf\n",
        "import numpy as np\n",
        "import matplotlib.pyplot as plt\n",
        "rng = np.random\n",
        "\n",
        "# Parameters.\n",
        "learning_rate = 0.01\n",
        "training_steps = 1000\n",
        "display_step = 50"
      ],
      "execution_count": 15,
      "outputs": []
    },
    {
      "cell_type": "code",
      "metadata": {
        "id": "JP5JzxM_5vab"
      },
      "source": [
        "# Training Data.\n",
        "X = np.array([3.3,4.4,5.5,6.71,6.93,4.168,9.779,6.182,7.59,2.167, 7.042,10.791,5.313,7.997,5.654,9.27,3.1])\n",
        "Y = np.array([1.7,2.76,2.09,3.19,1.694,1.573,3.366,2.596,2.53,1.221, 2.827,3.465,1.65,2.904,2.42,2.94,1.3])"
      ],
      "execution_count": 4,
      "outputs": []
    },
    {
      "cell_type": "code",
      "metadata": {
        "id": "Xwjh_JBH5vpq"
      },
      "source": [
        "# Weight and Bias, initialized randomly.\n",
        "W = tf.Variable(rng.randn(), name=\"weight\")\n",
        "b = tf.Variable(rng.randn(), name=\"bias\")"
      ],
      "execution_count": 5,
      "outputs": []
    },
    {
      "cell_type": "code",
      "metadata": {
        "id": "NpjFQePz5wJ6"
      },
      "source": [
        "#Linear regression (Wx + b).\n",
        "def linear_regression(x):\n",
        "  return W * x + b\n",
        "\n",
        "# Mean square error.\n",
        "def mean_square(y_pred, y_true):\n",
        "  return tf.reduce_mean(tf.square(y_pred - y_true))\n",
        "\n",
        "# Stochastic Gradient Descent Optimizer.\n",
        "optimizer = tf.optimizers.SGD(learning_rate)\n",
        "\n",
        "# Optimization process.\n",
        "def run_optimization():\n",
        "  # Wrap computation inside a GradientTape for automatic differentiation.\n",
        "  with tf.GradientTape() as g:\n",
        "    pred = linear_regression(X)\n",
        "    loss = mean_square(pred, Y)\n",
        "  # Compute gradients.\n",
        "  gradients = g.gradient(loss, [W, b])\n",
        "  # Update W and b following gradients.\n",
        "  optimizer.apply_gradients(zip(gradients, [W, b])) "
      ],
      "execution_count": 12,
      "outputs": []
    },
    {
      "cell_type": "code",
      "metadata": {
        "colab": {
          "base_uri": "https://localhost:8080/"
        },
        "id": "ZAG85Lau61C0",
        "outputId": "30318d10-33a9-4ddd-cd98-e32dafbd3892"
      },
      "source": [
        "# Run training for the given number of steps.\n",
        "for step in range(1, training_steps + 1):\n",
        "# Run the optimization to update W and b values.\n",
        "  run_optimization()\n",
        "  if step % display_step == 0:\n",
        "    pred = linear_regression(X)\n",
        "    loss = mean_square(pred, Y)\n",
        "    print(\"step: %i, loss: %f, W: %f, b: %f\" % (step, loss, W.numpy(), b.numpy()))  "
      ],
      "execution_count": 14,
      "outputs": [
        {
          "output_type": "stream",
          "text": [
            "step: 50, loss: 0.273440, W: 0.390265, b: -0.184025\n",
            "step: 100, loss: 0.247637, W: 0.374401, b: -0.071554\n",
            "step: 150, loss: 0.227402, W: 0.360352, b: 0.028046\n",
            "step: 200, loss: 0.211533, W: 0.347911, b: 0.116248\n",
            "step: 250, loss: 0.199088, W: 0.336893, b: 0.194356\n",
            "step: 300, loss: 0.189328, W: 0.327137, b: 0.263527\n",
            "step: 350, loss: 0.181674, W: 0.318497, b: 0.324781\n",
            "step: 400, loss: 0.175672, W: 0.310845, b: 0.379026\n",
            "step: 450, loss: 0.170965, W: 0.304070, b: 0.427063\n",
            "step: 500, loss: 0.167274, W: 0.298069, b: 0.469604\n",
            "step: 550, loss: 0.164379, W: 0.292755, b: 0.507276\n",
            "step: 600, loss: 0.162109, W: 0.288050, b: 0.540637\n",
            "step: 650, loss: 0.160328, W: 0.283883, b: 0.570180\n",
            "step: 700, loss: 0.158932, W: 0.280192, b: 0.596342\n",
            "step: 750, loss: 0.157837, W: 0.276924, b: 0.619511\n",
            "step: 800, loss: 0.156979, W: 0.274030, b: 0.640028\n",
            "step: 850, loss: 0.156305, W: 0.271467, b: 0.658198\n",
            "step: 900, loss: 0.155777, W: 0.269198, b: 0.674288\n",
            "step: 950, loss: 0.155363, W: 0.267188, b: 0.688537\n",
            "step: 1000, loss: 0.155038, W: 0.265408, b: 0.701155\n"
          ],
          "name": "stdout"
        }
      ]
    },
    {
      "cell_type": "code",
      "metadata": {
        "colab": {
          "base_uri": "https://localhost:8080/",
          "height": 265
        },
        "id": "BS_zG6P27maZ",
        "outputId": "f5290ab5-53d1-4591-cb33-83bbbc0a349c"
      },
      "source": [
        "# Graphic display\n",
        "plt.plot(X, Y, 'ro', label='Original data')\n",
        "plt.plot(X, np.array(W * X + b), label='Fitted line')\n",
        "plt.legend()\n",
        "plt.show()"
      ],
      "execution_count": 16,
      "outputs": [
        {
          "output_type": "display_data",
          "data": {
            "image/png": "[encoded data removed]",
            "text/plain": [
              "<Figure size 432x288 with 1 Axes>"
            ]
          },
          "metadata": {
            "tags": [],
            "needs_background": "light"
          }
        }
      ]
    }
  ]
}